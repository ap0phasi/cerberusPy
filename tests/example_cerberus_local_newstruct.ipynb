{
  "cells": [
    {
      "cell_type": "markdown",
      "metadata": {
        "id": "v6JdUAunSOmn"
      },
      "source": [
        "# Modular CerberusTS Experimentation\n",
        "\n",
        "First we make sure we are in the base working directory (this is probably not necessary if using the package):"
      ]
    },
    {
      "cell_type": "markdown",
      "metadata": {
        "id": "gYXlEu7zyGNm"
      },
      "source": [
        "Google Colab notebooks come with most of the packages we need, but we need to upgrade pandas and install accelerate."
      ]
    },
    {
      "cell_type": "markdown",
      "metadata": {
        "id": "IZzrzqahSOmq"
      },
      "source": [
        "Then we import the necessary CerberusTS modules."
      ]
    },
    {
      "cell_type": "code",
      "execution_count": 1,
      "metadata": {},
      "outputs": [
        {
          "name": "stdout",
          "output_type": "stream",
          "text": [
            "Number of CUDA devices available: 1\n",
            "CUDA Device 0: NVIDIA GeForce GTX 1650 with Max-Q Design\n"
          ]
        }
      ],
      "source": [
        "import torch\n",
        "# Check if CUDA is available\n",
        "if torch.cuda.is_available():\n",
        "    # Print the number of available CUDA devices\n",
        "    print(f\"Number of CUDA devices available: {torch.cuda.device_count()}\")\n",
        "\n",
        "    # Print each CUDA device\n",
        "    for i in range(torch.cuda.device_count()):\n",
        "        print(f\"CUDA Device {i}: {torch.cuda.get_device_name(i)}\")\n",
        "else:\n",
        "    print(\"CUDA is not available.\")"
      ]
    },
    {
      "cell_type": "code",
      "execution_count": 2,
      "metadata": {},
      "outputs": [
        {
          "name": "stderr",
          "output_type": "stream",
          "text": [
            "c:\\Users\\johnm\\AppData\\Local\\pypoetry\\Cache\\virtualenvs\\cerberus-ts-abOSmZJQ-py3.12\\Lib\\site-packages\\tqdm\\auto.py:21: TqdmWarning: IProgress not found. Please update jupyter and ipywidgets. See https://ipywidgets.readthedocs.io/en/stable/user_install.html\n",
            "  from .autonotebook import tqdm as notebook_tqdm\n"
          ]
        }
      ],
      "source": [
        "from cerberus_ts import CerberusConfig\n",
        "CerberusConfig.set_masked_norm_zero = True\n",
        "CerberusConfig.processor_type = 'flatten'\n",
        "CerberusConfig.foresight_residual = False"
      ]
    },
    {
      "cell_type": "code",
      "execution_count": 3,
      "metadata": {
        "id": "JszYMejySOmq"
      },
      "outputs": [],
      "source": [
        "from cerberus_ts import Cerberus, train_cerberus\n",
        "from cerberus_ts import Foresight, train_foresight\n",
        "from cerberus_ts import TimeseriesDataPreparer, ResponseGenerator\n",
        "\n",
        "import pandas as pd"
      ]
    },
    {
      "cell_type": "markdown",
      "metadata": {
        "id": "cI8HyB4hSOmr"
      },
      "source": [
        "Here we have the ability to do some custom configuration:"
      ]
    },
    {
      "cell_type": "markdown",
      "metadata": {
        "id": "jTC4JrnBSOmr"
      },
      "source": [
        "## Dataset Loading\n",
        "\n",
        "Next we need a Pandas Dataframe of some wide-formatted mutlivariate timeseries data. Here we will use the Jena Climate Data found here: https://www.kaggle.com/datasets/mnassrib/jena-climate"
      ]
    },
    {
      "cell_type": "code",
      "execution_count": 4,
      "metadata": {
        "id": "Nn7c760ZSOmr"
      },
      "outputs": [],
      "source": [
        "df = pd.read_csv(r\"../data/jena_climate_2009_2016.csv\",\n",
        "                parse_dates=['Date Time'],\n",
        "                index_col=['Date Time'])\n",
        "df.index = pd.to_datetime(df.index, format='%d.%m.%Y %H:%M:%S')\n",
        "# For these tests we will just use a small slice of the dataset\n",
        "df = df.iloc[:5000,:]"
      ]
    },
    {
      "cell_type": "markdown",
      "metadata": {
        "id": "Jtvl6q86SOms"
      },
      "source": [
        "## User Argument Specification\n",
        "There are a number of different arguments that can be provided to Cerberus, shown below:"
      ]
    },
    {
      "cell_type": "code",
      "execution_count": 5,
      "metadata": {
        "id": "9PlcpgaiSOms"
      },
      "outputs": [],
      "source": [
        "# What ratio of data needs to be available for the various call, response, and context windows to use that timestamp?\n",
        "thresholds = {\n",
        "    'call': 1,\n",
        "    'response': 1,\n",
        "    'context_0': 1,\n",
        "    'context_1': 1,\n",
        "    'context_2': 1\n",
        "}\n",
        "\n",
        "# How big should the call, context(s), and response windows be?\n",
        "sizes = {\n",
        "    'call': 24,\n",
        "    'response': 8,\n",
        "    'context_0': 24,\n",
        "    'context_1': 12,\n",
        "    'context_2': 6\n",
        "}\n",
        "\n",
        "# What timestep should each head use?\n",
        "window_timesteps = {\n",
        "    'call': '10T',\n",
        "    'response': '10T',\n",
        "    'context_0': '1H',\n",
        "    'context_1': '2H',\n",
        "    'context_2': '6H'\n",
        "}\n",
        "\n",
        "# Which columns should be used for each head?\n",
        "feature_indexes = {\n",
        "    'call': range(0,14),\n",
        "    'response': [0, 1, 4],\n",
        "    'context_0': range(0,14),\n",
        "    'context_1': range(0,14),\n",
        "    'context_2': range(0,14)\n",
        "}"
      ]
    },
    {
      "cell_type": "markdown",
      "metadata": {
        "id": "vNPLo4c9SOms"
      },
      "source": [
        "## Prepare Dataset\n",
        "\n",
        "We will use CerberusTS's TimeseriesDataPreparer class to create Torch dataloaders for all our different heads, scaled, downsampled, and coil-normalized for easy Cerberus use."
      ]
    },
    {
      "cell_type": "code",
      "execution_count": 6,
      "metadata": {
        "id": "ZeQxziRuSOmt"
      },
      "outputs": [
        {
          "name": "stderr",
          "output_type": "stream",
          "text": [
            "C:\\Users\\johnm\\Documents\\GitHub\\cerberusPy\\cerberus_ts\\utils\\data_preparation.py:31: FutureWarning: 'T' is deprecated and will be removed in a future version, please use 'min' instead.\n",
            "  mean_df = df.resample(window).mean()\n",
            "C:\\Users\\johnm\\Documents\\GitHub\\cerberusPy\\cerberus_ts\\utils\\data_preparation.py:34: FutureWarning: 'T' is deprecated and will be removed in a future version, please use 'min' instead.\n",
            "  max_timestamps = df.iloc[:,1].resample(window).apply(lambda x: x.index.max())\n",
            "C:\\Users\\johnm\\Documents\\GitHub\\cerberusPy\\cerberus_ts\\utils\\data_preparation.py:31: FutureWarning: 'H' is deprecated and will be removed in a future version, please use 'h' instead.\n",
            "  mean_df = df.resample(window).mean()\n",
            "C:\\Users\\johnm\\Documents\\GitHub\\cerberusPy\\cerberus_ts\\utils\\data_preparation.py:34: FutureWarning: 'H' is deprecated and will be removed in a future version, please use 'h' instead.\n",
            "  max_timestamps = df.iloc[:,1].resample(window).apply(lambda x: x.index.max())\n"
          ]
        }
      ],
      "source": [
        "# Initialize the preparer\n",
        "preparer = TimeseriesDataPreparer(df, sizes, thresholds, feature_indexes, window_timesteps, train_len = 20_000, feature_range = (0, 1), batch_size = 100)\n",
        "\n",
        "# Prepare the data\n",
        "preparer.prepare_data()"
      ]
    },
    {
      "cell_type": "code",
      "execution_count": 7,
      "metadata": {},
      "outputs": [
        {
          "data": {
            "text/plain": [
              "device(type='cuda', index=0)"
            ]
          },
          "execution_count": 7,
          "metadata": {},
          "output_type": "execute_result"
        }
      ],
      "source": [
        "iterator = iter(preparer.dataloaders)\n",
        "batch = next(iterator)\n",
        "batch[0].device"
      ]
    },
    {
      "cell_type": "markdown",
      "metadata": {
        "id": "ovIuXQXKSOmt"
      },
      "source": [
        "## CerberusTS Training (No Foresight)"
      ]
    },
    {
      "cell_type": "code",
      "execution_count": 8,
      "metadata": {
        "id": "rFna72OkSOmu"
      },
      "outputs": [],
      "source": [
        "cerberus_noforesight = Cerberus(sizes=sizes,\n",
        "                 feature_indexes=feature_indexes,\n",
        "                 d_neck = 128  ,\n",
        "                 head_layers=[\"conv\",\"conv\"],\n",
        "                 body_layer_sizes = [128, 64, 32, 12],\n",
        "                 dropout_rate = 0.0,\n",
        "                 out_channels = 64,\n",
        "                 last_known_loc = 2 )\n",
        "                 "
      ]
    },
    {
      "cell_type": "code",
      "execution_count": 9,
      "metadata": {},
      "outputs": [
        {
          "name": "stdout",
          "output_type": "stream",
          "text": [
            "tensor(0, device='cuda:0')\n",
            "tensor(0, device='cuda:0')\n",
            "tensor(0, device='cuda:0')\n",
            "tensor(0, device='cuda:0')\n",
            "tensor(0, device='cuda:0')\n",
            "tensor(0, device='cuda:0')\n",
            "tensor(0, device='cuda:0')\n",
            "torch.Size([100, 6])\n"
          ]
        }
      ],
      "source": [
        "# Prepare data for the model\n",
        "calls_batch = batch[0]\n",
        "responses_batch = batch[1]\n",
        "last_knowns_batch = batch[2]\n",
        "y_batch = batch[3]\n",
        "\n",
        "# unmasked is on index 4, everything after that is contexts\n",
        "contexts_batch = batch[5:]\n",
        "\n",
        "model = cerberus_noforesight.to(\"cuda\")\n",
        "model.eval()\n",
        "outputs = model(calls_batch, contexts_batch, responses_batch, last_knowns_batch)\n",
        "\n",
        "print(sum(sum(sum(calls_batch.isnan()))))\n",
        "print(sum(sum(sum(responses_batch.isnan()))))\n",
        "print(sum(sum(last_knowns_batch.isnan())))\n",
        "print(sum(sum(y_batch.isnan())))\n",
        "print(sum(sum(sum(contexts_batch[0].isnan()))))\n",
        "print(sum(sum(sum(contexts_batch[1].isnan()))))\n",
        "print(sum(sum(sum(contexts_batch[2].isnan()))))\n",
        "\n",
        "print(outputs.shape)"
      ]
    },
    {
      "cell_type": "code",
      "execution_count": 10,
      "metadata": {
        "colab": {
          "base_uri": "https://localhost:8080/"
        },
        "id": "FgyEs2uxSOmu",
        "outputId": "803bc4e6-56b1-4593-a3c8-1df817adc8de"
      },
      "outputs": [
        {
          "name": "stdout",
          "output_type": "stream",
          "text": [
            "Epoch [1/60], Loss: 4.2952710664394545e-05\n",
            "Epoch [2/60], Loss: 3.551623622115585e-05\n"
          ]
        },
        {
          "ename": "KeyboardInterrupt",
          "evalue": "",
          "output_type": "error",
          "traceback": [
            "\u001b[1;31m---------------------------------------------------------------------------\u001b[0m",
            "\u001b[1;31mKeyboardInterrupt\u001b[0m                         Traceback (most recent call last)",
            "Cell \u001b[1;32mIn[10], line 1\u001b[0m\n\u001b[1;32m----> 1\u001b[0m cerberus_noforesight \u001b[38;5;241m=\u001b[39m \u001b[43mtrain_cerberus\u001b[49m\u001b[43m(\u001b[49m\u001b[43mcerberus_noforesight\u001b[49m\u001b[43m,\u001b[49m\u001b[43m \u001b[49m\u001b[43mpreparer\u001b[49m\u001b[38;5;241;43m.\u001b[39;49m\u001b[43mdataloaders\u001b[49m\u001b[43m,\u001b[49m\u001b[43m \u001b[49m\u001b[43mnum_epochs\u001b[49m\u001b[43m \u001b[49m\u001b[38;5;241;43m=\u001b[39;49m\u001b[43m \u001b[49m\u001b[38;5;241;43m60\u001b[39;49m\u001b[43m)\u001b[49m\n",
            "File \u001b[1;32m~\\Documents\\GitHub\\cerberusPy\\cerberus_ts\\modules\\build_cerberus.py:165\u001b[0m, in \u001b[0;36mtrain_cerberus\u001b[1;34m(model, prepared_dataloaders, num_epochs, learning_rate, warmup_steps, base_lr, weight_decay)\u001b[0m\n\u001b[0;32m    162\u001b[0m loss \u001b[38;5;241m=\u001b[39m criterion(outputs, y_batch)\n\u001b[0;32m    164\u001b[0m \u001b[38;5;66;03m# Backward pass and optimize\u001b[39;00m\n\u001b[1;32m--> 165\u001b[0m \u001b[43maccelerator\u001b[49m\u001b[38;5;241;43m.\u001b[39;49m\u001b[43mbackward\u001b[49m\u001b[43m(\u001b[49m\u001b[43mloss\u001b[49m\u001b[43m)\u001b[49m\n\u001b[0;32m    166\u001b[0m optimizer\u001b[38;5;241m.\u001b[39mstep()\n\u001b[0;32m    168\u001b[0m running_loss \u001b[38;5;241m+\u001b[39m\u001b[38;5;241m=\u001b[39m loss\u001b[38;5;241m.\u001b[39mitem()\n",
            "File \u001b[1;32mc:\\Users\\johnm\\AppData\\Local\\pypoetry\\Cache\\virtualenvs\\cerberus-ts-abOSmZJQ-py3.12\\Lib\\site-packages\\accelerate\\accelerator.py:2125\u001b[0m, in \u001b[0;36mAccelerator.backward\u001b[1;34m(self, loss, **kwargs)\u001b[0m\n\u001b[0;32m   2123\u001b[0m     \u001b[38;5;28mself\u001b[39m\u001b[38;5;241m.\u001b[39mlomo_backward(loss, learning_rate)\n\u001b[0;32m   2124\u001b[0m \u001b[38;5;28;01melse\u001b[39;00m:\n\u001b[1;32m-> 2125\u001b[0m     \u001b[43mloss\u001b[49m\u001b[38;5;241;43m.\u001b[39;49m\u001b[43mbackward\u001b[49m\u001b[43m(\u001b[49m\u001b[38;5;241;43m*\u001b[39;49m\u001b[38;5;241;43m*\u001b[39;49m\u001b[43mkwargs\u001b[49m\u001b[43m)\u001b[49m\n",
            "File \u001b[1;32mc:\\Users\\johnm\\AppData\\Local\\pypoetry\\Cache\\virtualenvs\\cerberus-ts-abOSmZJQ-py3.12\\Lib\\site-packages\\torch\\_tensor.py:525\u001b[0m, in \u001b[0;36mTensor.backward\u001b[1;34m(self, gradient, retain_graph, create_graph, inputs)\u001b[0m\n\u001b[0;32m    515\u001b[0m \u001b[38;5;28;01mif\u001b[39;00m has_torch_function_unary(\u001b[38;5;28mself\u001b[39m):\n\u001b[0;32m    516\u001b[0m     \u001b[38;5;28;01mreturn\u001b[39;00m handle_torch_function(\n\u001b[0;32m    517\u001b[0m         Tensor\u001b[38;5;241m.\u001b[39mbackward,\n\u001b[0;32m    518\u001b[0m         (\u001b[38;5;28mself\u001b[39m,),\n\u001b[1;32m   (...)\u001b[0m\n\u001b[0;32m    523\u001b[0m         inputs\u001b[38;5;241m=\u001b[39minputs,\n\u001b[0;32m    524\u001b[0m     )\n\u001b[1;32m--> 525\u001b[0m \u001b[43mtorch\u001b[49m\u001b[38;5;241;43m.\u001b[39;49m\u001b[43mautograd\u001b[49m\u001b[38;5;241;43m.\u001b[39;49m\u001b[43mbackward\u001b[49m\u001b[43m(\u001b[49m\n\u001b[0;32m    526\u001b[0m \u001b[43m    \u001b[49m\u001b[38;5;28;43mself\u001b[39;49m\u001b[43m,\u001b[49m\u001b[43m \u001b[49m\u001b[43mgradient\u001b[49m\u001b[43m,\u001b[49m\u001b[43m \u001b[49m\u001b[43mretain_graph\u001b[49m\u001b[43m,\u001b[49m\u001b[43m \u001b[49m\u001b[43mcreate_graph\u001b[49m\u001b[43m,\u001b[49m\u001b[43m \u001b[49m\u001b[43minputs\u001b[49m\u001b[38;5;241;43m=\u001b[39;49m\u001b[43minputs\u001b[49m\n\u001b[0;32m    527\u001b[0m \u001b[43m\u001b[49m\u001b[43m)\u001b[49m\n",
            "File \u001b[1;32mc:\\Users\\johnm\\AppData\\Local\\pypoetry\\Cache\\virtualenvs\\cerberus-ts-abOSmZJQ-py3.12\\Lib\\site-packages\\torch\\autograd\\__init__.py:267\u001b[0m, in \u001b[0;36mbackward\u001b[1;34m(tensors, grad_tensors, retain_graph, create_graph, grad_variables, inputs)\u001b[0m\n\u001b[0;32m    262\u001b[0m     retain_graph \u001b[38;5;241m=\u001b[39m create_graph\n\u001b[0;32m    264\u001b[0m \u001b[38;5;66;03m# The reason we repeat the same comment below is that\u001b[39;00m\n\u001b[0;32m    265\u001b[0m \u001b[38;5;66;03m# some Python versions print out the first line of a multi-line function\u001b[39;00m\n\u001b[0;32m    266\u001b[0m \u001b[38;5;66;03m# calls in the traceback and some print out the last line\u001b[39;00m\n\u001b[1;32m--> 267\u001b[0m \u001b[43m_engine_run_backward\u001b[49m\u001b[43m(\u001b[49m\n\u001b[0;32m    268\u001b[0m \u001b[43m    \u001b[49m\u001b[43mtensors\u001b[49m\u001b[43m,\u001b[49m\n\u001b[0;32m    269\u001b[0m \u001b[43m    \u001b[49m\u001b[43mgrad_tensors_\u001b[49m\u001b[43m,\u001b[49m\n\u001b[0;32m    270\u001b[0m \u001b[43m    \u001b[49m\u001b[43mretain_graph\u001b[49m\u001b[43m,\u001b[49m\n\u001b[0;32m    271\u001b[0m \u001b[43m    \u001b[49m\u001b[43mcreate_graph\u001b[49m\u001b[43m,\u001b[49m\n\u001b[0;32m    272\u001b[0m \u001b[43m    \u001b[49m\u001b[43minputs\u001b[49m\u001b[43m,\u001b[49m\n\u001b[0;32m    273\u001b[0m \u001b[43m    \u001b[49m\u001b[43mallow_unreachable\u001b[49m\u001b[38;5;241;43m=\u001b[39;49m\u001b[38;5;28;43;01mTrue\u001b[39;49;00m\u001b[43m,\u001b[49m\n\u001b[0;32m    274\u001b[0m \u001b[43m    \u001b[49m\u001b[43maccumulate_grad\u001b[49m\u001b[38;5;241;43m=\u001b[39;49m\u001b[38;5;28;43;01mTrue\u001b[39;49;00m\u001b[43m,\u001b[49m\n\u001b[0;32m    275\u001b[0m \u001b[43m\u001b[49m\u001b[43m)\u001b[49m\n",
            "File \u001b[1;32mc:\\Users\\johnm\\AppData\\Local\\pypoetry\\Cache\\virtualenvs\\cerberus-ts-abOSmZJQ-py3.12\\Lib\\site-packages\\torch\\autograd\\graph.py:744\u001b[0m, in \u001b[0;36m_engine_run_backward\u001b[1;34m(t_outputs, *args, **kwargs)\u001b[0m\n\u001b[0;32m    742\u001b[0m     unregister_hooks \u001b[38;5;241m=\u001b[39m _register_logging_hooks_on_whole_graph(t_outputs)\n\u001b[0;32m    743\u001b[0m \u001b[38;5;28;01mtry\u001b[39;00m:\n\u001b[1;32m--> 744\u001b[0m     \u001b[38;5;28;01mreturn\u001b[39;00m \u001b[43mVariable\u001b[49m\u001b[38;5;241;43m.\u001b[39;49m\u001b[43m_execution_engine\u001b[49m\u001b[38;5;241;43m.\u001b[39;49m\u001b[43mrun_backward\u001b[49m\u001b[43m(\u001b[49m\u001b[43m  \u001b[49m\u001b[38;5;66;43;03m# Calls into the C++ engine to run the backward pass\u001b[39;49;00m\n\u001b[0;32m    745\u001b[0m \u001b[43m        \u001b[49m\u001b[43mt_outputs\u001b[49m\u001b[43m,\u001b[49m\u001b[43m \u001b[49m\u001b[38;5;241;43m*\u001b[39;49m\u001b[43margs\u001b[49m\u001b[43m,\u001b[49m\u001b[43m \u001b[49m\u001b[38;5;241;43m*\u001b[39;49m\u001b[38;5;241;43m*\u001b[39;49m\u001b[43mkwargs\u001b[49m\n\u001b[0;32m    746\u001b[0m \u001b[43m    \u001b[49m\u001b[43m)\u001b[49m  \u001b[38;5;66;03m# Calls into the C++ engine to run the backward pass\u001b[39;00m\n\u001b[0;32m    747\u001b[0m \u001b[38;5;28;01mfinally\u001b[39;00m:\n\u001b[0;32m    748\u001b[0m     \u001b[38;5;28;01mif\u001b[39;00m attach_logging_hooks:\n",
            "\u001b[1;31mKeyboardInterrupt\u001b[0m: "
          ]
        }
      ],
      "source": [
        "cerberus_noforesight = train_cerberus(cerberus_noforesight, preparer.dataloaders, num_epochs = 60)"
      ]
    },
    {
      "cell_type": "markdown",
      "metadata": {
        "id": "-3yO-S2vSOmu"
      },
      "source": [
        "## Results Review\n",
        "\n",
        "CerberusTS has some built in functionality for generating responses as well as visualizing the results.\n",
        "\n",
        "### Normalized Response Review"
      ]
    },
    {
      "cell_type": "code",
      "execution_count": null,
      "metadata": {},
      "outputs": [],
      "source": [
        "preparer.conserved_subgroups['response']"
      ]
    },
    {
      "cell_type": "code",
      "execution_count": null,
      "metadata": {},
      "outputs": [],
      "source": [
        "df = pd.read_csv(r\"../data/jena_climate_2009_2016.csv\",\n",
        "                parse_dates=['Date Time'],\n",
        "                index_col=['Date Time'])\n",
        "df.index = pd.to_datetime(df.index, format='%d.%m.%Y %H:%M:%S')\n",
        "# For these tests we will just use a small slice of the dataset\n",
        "df = df.iloc[:10000,:]\n",
        "\n",
        "# Initialize the preparer\n",
        "preparer2 = TimeseriesDataPreparer(df, sizes, thresholds, feature_indexes, window_timesteps, train_len = 20_000, feature_range = (0, 1), batch_size = 100)\n",
        "\n",
        "# Prepare the data\n",
        "preparer2.prepare_data()"
      ]
    },
    {
      "cell_type": "code",
      "execution_count": null,
      "metadata": {
        "colab": {
          "base_uri": "https://localhost:8080/",
          "height": 1000
        },
        "id": "QBCF26pjSOmu",
        "outputId": "fbe74ed9-6279-4977-d7ac-57f1e3bb80fe"
      },
      "outputs": [],
      "source": [
        "# Intialize Response Generator\n",
        "generator = ResponseGenerator(cerberus_noforesight, preparer2.sliced_data, feature_indexes, preparer.max_change_dfs, preparer.conserved_subgroups)\n",
        "\n",
        "# Generate a response for a specific index\n",
        "sel_index = 123\n",
        "generator.generate_response(sel_index)\n",
        "\n",
        "generator.plot_normalized_responses()"
      ]
    },
    {
      "cell_type": "markdown",
      "metadata": {
        "id": "yBr9bwEhSOmu"
      },
      "source": [
        "### Unscaled Response Review"
      ]
    },
    {
      "cell_type": "code",
      "execution_count": null,
      "metadata": {
        "colab": {
          "base_uri": "https://localhost:8080/",
          "height": 1000
        },
        "id": "MQa9mHl7SOmu",
        "outputId": "b2d84d5c-5b09-4afd-84c3-b6e09b79e614"
      },
      "outputs": [],
      "source": [
        "generator.plot_unscaled_responses(preparer.min_max_df, feature_indexes)"
      ]
    },
    {
      "cell_type": "code",
      "execution_count": null,
      "metadata": {},
      "outputs": [],
      "source": [
        "def count_parameters(model): return sum(p.numel() for p in model.parameters() if p.requires_grad)\n",
        "\n",
        "count_parameters(cerberus_noforesight)"
      ]
    }
  ],
  "metadata": {
    "accelerator": "GPU",
    "colab": {
      "gpuType": "T4",
      "include_colab_link": true,
      "provenance": []
    },
    "kernelspec": {
      "display_name": "Python 3",
      "name": "python3"
    },
    "language_info": {
      "codemirror_mode": {
        "name": "ipython",
        "version": 3
      },
      "file_extension": ".py",
      "mimetype": "text/x-python",
      "name": "python",
      "nbconvert_exporter": "python",
      "pygments_lexer": "ipython3",
      "version": "3.12.2"
    }
  },
  "nbformat": 4,
  "nbformat_minor": 0
}
