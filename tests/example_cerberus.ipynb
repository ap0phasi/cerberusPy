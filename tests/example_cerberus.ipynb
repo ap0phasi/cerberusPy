{
 "cells": [
  {
   "cell_type": "markdown",
   "metadata": {},
   "source": [
    "# Modular CerberusTS Experimentation\n",
    "\n",
    "First we make sure we are in the base working directory (this is probably not necessary if using the package):"
   ]
  },
  {
   "cell_type": "code",
   "execution_count": 1,
   "metadata": {},
   "outputs": [],
   "source": [
    "import os\n",
    "os.chdir(\"..\")"
   ]
  },
  {
   "cell_type": "markdown",
   "metadata": {},
   "source": [
    "Then we import the necessary CerberusTS modules. "
   ]
  },
  {
   "cell_type": "code",
   "execution_count": 2,
   "metadata": {},
   "outputs": [
    {
     "name": "stderr",
     "output_type": "stream",
     "text": [
      "c:\\Users\\johnm\\AppData\\Local\\Programs\\Python\\Python38\\lib\\site-packages\\tqdm\\auto.py:21: TqdmWarning: IProgress not found. Please update jupyter and ipywidgets. See https://ipywidgets.readthedocs.io/en/stable/user_install.html\n",
      "  from .autonotebook import tqdm as notebook_tqdm\n"
     ]
    }
   ],
   "source": [
    "from cerberus_ts import Cerberus, train_cerberus\n",
    "from cerberus_ts import TimeseriesDataPreparer, ResponseGenerator\n",
    "from cerberus_ts import Foresight, train_foresight\n",
    "\n",
    "import pandas as pd"
   ]
  },
  {
   "cell_type": "markdown",
   "metadata": {},
   "source": [
    "Here we have the ability to do some custom configuration:"
   ]
  },
  {
   "cell_type": "code",
   "execution_count": 3,
   "metadata": {},
   "outputs": [],
   "source": [
    "from cerberus_ts import CerberusConfig\n",
    "CerberusConfig.set_masked_norm_zero = True"
   ]
  },
  {
   "cell_type": "markdown",
   "metadata": {},
   "source": [
    "## Dataset Loading\n",
    "\n",
    "Next we need a Pandas Dataframe of some wide-formatted mutlivariate timeseries data. Here we will use the Jena Climate Data found here: https://www.kaggle.com/datasets/mnassrib/jena-climate"
   ]
  },
  {
   "cell_type": "code",
   "execution_count": 4,
   "metadata": {},
   "outputs": [],
   "source": [
    "df = pd.read_csv(r\"data/jena_climate_2009_2016.csv\",\n",
    "                parse_dates=['Date Time'], \n",
    "                index_col=['Date Time'])\n",
    "df.index = pd.to_datetime(df.index, format='%d.%m.%Y %H:%M:%S')\n",
    "df = df.iloc[:5000,:]"
   ]
  },
  {
   "cell_type": "markdown",
   "metadata": {},
   "source": [
    "## User Argument Specification\n",
    "There are a number of different arguments that can be provided to Cerberus, shown below:"
   ]
  },
  {
   "cell_type": "code",
   "execution_count": 5,
   "metadata": {},
   "outputs": [],
   "source": [
    "# What ratio of data needs to be available for the various call, response, and context windows to use that timestamp?\n",
    "thresholds = {\n",
    "    'call': 1,\n",
    "    'response': 1,\n",
    "    'context_0': 1,\n",
    "    'context_1': 1,\n",
    "    'context_2': 1\n",
    "}\n",
    "\n",
    "# How big should the call, context(s), and response windows be?\n",
    "sizes = {\n",
    "    'call': 24,\n",
    "    'response': 8,\n",
    "    'context_0': 24,\n",
    "    'context_1': 12,\n",
    "    'context_2': 6\n",
    "}\n",
    "\n",
    "# What timestep should each head use?\n",
    "window_timesteps = {\n",
    "    'call': '10T',\n",
    "    'response': '10T',\n",
    "    'context_0': '1H',\n",
    "    'context_1': '2H',\n",
    "    'context_2': '6H'\n",
    "}\n",
    "\n",
    "# Which columns should be used for each head?\n",
    "feature_indexes = {\n",
    "    'call': range(0,14),\n",
    "    'response': [0, 1, 4],\n",
    "    'context_0': range(0,14),\n",
    "    'context_1': range(0,14),\n",
    "    'context_2': range(0,14)   \n",
    "}"
   ]
  },
  {
   "cell_type": "markdown",
   "metadata": {},
   "source": [
    "## Prepare Dataset\n",
    "\n",
    "We will use CerberusTS's TimeseriesDataPreparer class to create Torch dataloaders for all our different heads, scaled, downsampled, and coil-normalized for easy Cerberus use. "
   ]
  },
  {
   "cell_type": "code",
   "execution_count": 6,
   "metadata": {},
   "outputs": [],
   "source": [
    "# Initialize the preparer\n",
    "preparer = TimeseriesDataPreparer(df, sizes, thresholds, feature_indexes, window_timesteps, train_len = 20_000, feature_range = (0, 1), batch_size = 100)\n",
    "\n",
    "# Prepare the data\n",
    "preparer.prepare_data()"
   ]
  },
  {
   "cell_type": "markdown",
   "metadata": {},
   "source": [
    "## Foresight Training\n",
    "\n",
    "First, we can optionally train Foresight to aid CerberusTS:"
   ]
  },
  {
   "cell_type": "code",
   "execution_count": 7,
   "metadata": {},
   "outputs": [],
   "source": [
    "foresight = Foresight(sizes = sizes, \n",
    "                      feature_indexes = feature_indexes, \n",
    "                      csize = 128, \n",
    "                      hsize = [128, 128], \n",
    "                      pool_size = [1,1],\n",
    "                      head_layers=[\"conv\", \"conv\"])"
   ]
  },
  {
   "cell_type": "code",
   "execution_count": 8,
   "metadata": {},
   "outputs": [
    {
     "name": "stdout",
     "output_type": "stream",
     "text": [
      "Epoch [1/30], Loss: 0.020291858737667402\n",
      "Epoch [2/30], Loss: 0.008772262741501132\n",
      "Epoch [3/30], Loss: 0.0069979279239972434\n",
      "Epoch [4/30], Loss: 0.005685849852549533\n",
      "Epoch [5/30], Loss: 0.004411490069081386\n",
      "Epoch [6/30], Loss: 0.00325735920186465\n",
      "Epoch [7/30], Loss: 0.002137092831544578\n",
      "Epoch [8/30], Loss: 0.0011166552407667041\n",
      "Epoch [9/30], Loss: 0.0005500523519003763\n",
      "Epoch [10/30], Loss: 0.00026689371613125936\n",
      "Epoch [11/30], Loss: 0.00012350563374639024\n",
      "Epoch [12/30], Loss: 6.543229557185744e-05\n",
      "Epoch [13/30], Loss: 5.610925426784282e-05\n",
      "Epoch [14/30], Loss: 7.801234515985318e-05\n",
      "Epoch [15/30], Loss: 9.885420011414681e-05\n",
      "Epoch [16/30], Loss: 0.00016359915922900352\n",
      "Epoch [17/30], Loss: 0.0007408944888932941\n",
      "Epoch [18/30], Loss: 0.0006130888246116228\n",
      "Epoch [19/30], Loss: 8.560887759207011e-05\n",
      "Epoch [20/30], Loss: 1.1966528891207418e-05\n",
      "Epoch [21/30], Loss: 7.4935284646926445e-06\n",
      "Epoch [22/30], Loss: 1.1546432718508489e-05\n",
      "Epoch [23/30], Loss: 2.4735335179381462e-05\n",
      "Epoch [24/30], Loss: 5.4323947733792013e-05\n",
      "Epoch [25/30], Loss: 7.716785611895223e-05\n",
      "Epoch [26/30], Loss: 5.3854954579340605e-05\n",
      "Epoch [27/30], Loss: 5.3921641507865086e-05\n",
      "Epoch [28/30], Loss: 8.97930404729171e-05\n",
      "Epoch [29/30], Loss: 0.0007387695948515708\n",
      "Epoch [30/30], Loss: 0.0007173475120604659\n"
     ]
    }
   ],
   "source": [
    "foresight = train_foresight(foresight, preparer.dataloaders, num_epochs = 30)"
   ]
  },
  {
   "cell_type": "markdown",
   "metadata": {},
   "source": [
    "## CerberusTS Training\n",
    "\n",
    "With the Foresight model trained (and weights frozen), we can pass this into a Cerberus model and train the remaining weights to generate predictions. "
   ]
  },
  {
   "cell_type": "code",
   "execution_count": 9,
   "metadata": {},
   "outputs": [],
   "source": [
    "model = Cerberus(sizes=sizes, \n",
    "                 feature_indexes=feature_indexes, \n",
    "                 foresight=foresight, \n",
    "                 pool_size = [1,1],\n",
    "                 head_layers=[\"conv\",\"conv\"])"
   ]
  },
  {
   "cell_type": "code",
   "execution_count": 10,
   "metadata": {},
   "outputs": [
    {
     "name": "stdout",
     "output_type": "stream",
     "text": [
      "Epoch [1/60], Loss: 0.0012699975030651936\n",
      "Epoch [2/60], Loss: 0.000993401922751218\n",
      "Epoch [3/60], Loss: 0.0009452742446834843\n",
      "Epoch [4/60], Loss: 0.0009428700086815903\n",
      "Epoch [5/60], Loss: 0.0009346467270127808\n",
      "Epoch [6/60], Loss: 0.0009129920138123756\n",
      "Epoch [7/60], Loss: 0.0008594421177015951\n",
      "Epoch [8/60], Loss: 0.0007924715107462058\n",
      "Epoch [9/60], Loss: 0.0007048235659021884\n",
      "Epoch [10/60], Loss: 0.0006360380943321312\n",
      "Epoch [11/60], Loss: 0.0005818628436342503\n",
      "Epoch [12/60], Loss: 0.0005413601315619114\n",
      "Epoch [13/60], Loss: 0.0005191428734300038\n",
      "Epoch [14/60], Loss: 0.00048580218902012954\n",
      "Epoch [15/60], Loss: 0.00045885445821719864\n",
      "Epoch [16/60], Loss: 0.0004493673659938698\n",
      "Epoch [17/60], Loss: 0.0004241602509864606\n"
     ]
    }
   ],
   "source": [
    "model = train_cerberus(model, preparer.dataloaders, num_epochs = 60)"
   ]
  },
  {
   "cell_type": "markdown",
   "metadata": {},
   "source": [
    "## Results Review\n",
    "\n",
    "CerberusTS has some built in functionality for generating responses as well as visualizing the results. \n",
    "\n",
    "### Normalized Response Review"
   ]
  },
  {
   "cell_type": "code",
   "execution_count": null,
   "metadata": {},
   "outputs": [],
   "source": [
    "# Intialize Response Generator\n",
    "generator = ResponseGenerator(model, preparer.sliced_data, feature_indexes, preparer.max_change_dfs)\n",
    "\n",
    "# Generate a response for a specific index\n",
    "sel_index = 2130\n",
    "generator.generate_response(sel_index)\n",
    "\n",
    "generator.plot_normalized_responses()"
   ]
  },
  {
   "cell_type": "markdown",
   "metadata": {},
   "source": [
    "### Unscaled Response Review"
   ]
  },
  {
   "cell_type": "code",
   "execution_count": null,
   "metadata": {},
   "outputs": [],
   "source": [
    "generator.plot_unscaled_responses(preparer.min_max_df, feature_indexes)"
   ]
  }
 ],
 "metadata": {
  "kernelspec": {
   "display_name": "Python 3",
   "language": "python",
   "name": "python3"
  },
  "language_info": {
   "codemirror_mode": {
    "name": "ipython",
    "version": 3
   },
   "file_extension": ".py",
   "mimetype": "text/x-python",
   "name": "python",
   "nbconvert_exporter": "python",
   "pygments_lexer": "ipython3",
   "version": "3.8.3"
  }
 },
 "nbformat": 4,
 "nbformat_minor": 2
}
