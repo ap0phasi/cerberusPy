{
  "cells": [
    {
      "cell_type": "markdown",
      "metadata": {
        "id": "view-in-github",
        "colab_type": "text"
      },
      "source": [
        "<a href=\"https://colab.research.google.com/github/ap0phasi/cerberusPy/blob/dev_headselection/tests/example_cerberus.ipynb\" target=\"_parent\"><img src=\"https://colab.research.google.com/assets/colab-badge.svg\" alt=\"Open In Colab\"/></a>"
      ]
    },
    {
      "cell_type": "markdown",
      "metadata": {
        "id": "v6JdUAunSOmn"
      },
      "source": [
        "# Modular CerberusTS Experimentation\n",
        "\n",
        "First we make sure we are in the base working directory (this is probably not necessary if using the package):"
      ]
    },
    {
      "cell_type": "code",
      "source": [
        "!git clone --branch dev_headselection https://github.com/ap0phasi/cerberusPy"
      ],
      "metadata": {
        "id": "GaynA7xYSbL1",
        "outputId": "91d1f746-6270-41d9-92f9-509929e8f56f",
        "colab": {
          "base_uri": "https://localhost:8080/"
        }
      },
      "execution_count": 1,
      "outputs": [
        {
          "output_type": "stream",
          "name": "stdout",
          "text": [
            "Cloning into 'cerberusPy'...\n",
            "remote: Enumerating objects: 284, done.\u001b[K\n",
            "remote: Counting objects: 100% (284/284), done.\u001b[K\n",
            "remote: Compressing objects: 100% (193/193), done.\u001b[K\n",
            "remote: Total 284 (delta 132), reused 233 (delta 84), pack-reused 0\u001b[K\n",
            "Receiving objects: 100% (284/284), 19.44 MiB | 16.34 MiB/s, done.\n",
            "Resolving deltas: 100% (132/132), done.\n"
          ]
        }
      ]
    },
    {
      "cell_type": "markdown",
      "source": [
        "Google Colab notebooks come with most of the packages we need, but we need to upgrade pandas and install accelerate."
      ],
      "metadata": {
        "id": "gYXlEu7zyGNm"
      }
    },
    {
      "cell_type": "code",
      "execution_count": 3,
      "metadata": {
        "id": "KGSKNs4hSOmp"
      },
      "outputs": [],
      "source": [
        "import os\n",
        "os.chdir(\"cerberusPy\")"
      ]
    },
    {
      "cell_type": "code",
      "source": [
        "!setup.py install"
      ],
      "metadata": {
        "id": "hzqfg3rIyfsv"
      },
      "execution_count": null,
      "outputs": []
    },
    {
      "cell_type": "markdown",
      "metadata": {
        "id": "IZzrzqahSOmq"
      },
      "source": [
        "Then we import the necessary CerberusTS modules."
      ]
    },
    {
      "cell_type": "code",
      "execution_count": 4,
      "metadata": {
        "id": "JszYMejySOmq"
      },
      "outputs": [],
      "source": [
        "from cerberus_ts import Cerberus, train_cerberus\n",
        "from cerberus_ts import TimeseriesDataPreparer, ResponseGenerator\n",
        "from cerberus_ts import Foresight, train_foresight\n",
        "\n",
        "import pandas as pd"
      ]
    },
    {
      "cell_type": "markdown",
      "metadata": {
        "id": "cI8HyB4hSOmr"
      },
      "source": [
        "Here we have the ability to do some custom configuration:"
      ]
    },
    {
      "cell_type": "code",
      "execution_count": 5,
      "metadata": {
        "id": "HSbFbQQISOmr"
      },
      "outputs": [],
      "source": [
        "from cerberus_ts import CerberusConfig\n",
        "CerberusConfig.set_masked_norm_zero = True"
      ]
    },
    {
      "cell_type": "markdown",
      "metadata": {
        "id": "jTC4JrnBSOmr"
      },
      "source": [
        "## Dataset Loading\n",
        "\n",
        "Next we need a Pandas Dataframe of some wide-formatted mutlivariate timeseries data. Here we will use the Jena Climate Data found here: https://www.kaggle.com/datasets/mnassrib/jena-climate"
      ]
    },
    {
      "cell_type": "code",
      "execution_count": 6,
      "metadata": {
        "id": "Nn7c760ZSOmr"
      },
      "outputs": [],
      "source": [
        "df = pd.read_csv(r\"data/jena_climate_2009_2016.csv\",\n",
        "                parse_dates=['Date Time'],\n",
        "                index_col=['Date Time'])\n",
        "df.index = pd.to_datetime(df.index, format='%d.%m.%Y %H:%M:%S')\n",
        "df = df.iloc[:5000,:]"
      ]
    },
    {
      "cell_type": "markdown",
      "metadata": {
        "id": "Jtvl6q86SOms"
      },
      "source": [
        "## User Argument Specification\n",
        "There are a number of different arguments that can be provided to Cerberus, shown below:"
      ]
    },
    {
      "cell_type": "code",
      "execution_count": 7,
      "metadata": {
        "id": "9PlcpgaiSOms"
      },
      "outputs": [],
      "source": [
        "# What ratio of data needs to be available for the various call, response, and context windows to use that timestamp?\n",
        "thresholds = {\n",
        "    'call': 1,\n",
        "    'response': 1,\n",
        "    'context_0': 1,\n",
        "    'context_1': 1,\n",
        "    'context_2': 1\n",
        "}\n",
        "\n",
        "# How big should the call, context(s), and response windows be?\n",
        "sizes = {\n",
        "    'call': 24,\n",
        "    'response': 8,\n",
        "    'context_0': 24,\n",
        "    'context_1': 12,\n",
        "    'context_2': 6\n",
        "}\n",
        "\n",
        "# What timestep should each head use?\n",
        "window_timesteps = {\n",
        "    'call': '10T',\n",
        "    'response': '10T',\n",
        "    'context_0': '1H',\n",
        "    'context_1': '2H',\n",
        "    'context_2': '6H'\n",
        "}\n",
        "\n",
        "# Which columns should be used for each head?\n",
        "feature_indexes = {\n",
        "    'call': range(0,14),\n",
        "    'response': [0, 1, 4],\n",
        "    'context_0': range(0,14),\n",
        "    'context_1': range(0,14),\n",
        "    'context_2': range(0,14)\n",
        "}"
      ]
    },
    {
      "cell_type": "markdown",
      "metadata": {
        "id": "vNPLo4c9SOms"
      },
      "source": [
        "## Prepare Dataset\n",
        "\n",
        "We will use CerberusTS's TimeseriesDataPreparer class to create Torch dataloaders for all our different heads, scaled, downsampled, and coil-normalized for easy Cerberus use."
      ]
    },
    {
      "cell_type": "code",
      "execution_count": 8,
      "metadata": {
        "id": "ZeQxziRuSOmt"
      },
      "outputs": [],
      "source": [
        "# Initialize the preparer\n",
        "preparer = TimeseriesDataPreparer(df, sizes, thresholds, feature_indexes, window_timesteps, train_len = 20_000, feature_range = (0, 1), batch_size = 100)\n",
        "\n",
        "# Prepare the data\n",
        "preparer.prepare_data()"
      ]
    },
    {
      "cell_type": "markdown",
      "source": [],
      "metadata": {
        "id": "xCEE5MzZbrR1"
      }
    },
    {
      "cell_type": "markdown",
      "metadata": {
        "id": "eQ0e0M0OSOmt"
      },
      "source": [
        "## Foresight Training\n",
        "\n",
        "First, we can optionally train Foresight to aid CerberusTS:"
      ]
    },
    {
      "cell_type": "code",
      "execution_count": 9,
      "metadata": {
        "id": "koQQhY6gSOmt"
      },
      "outputs": [],
      "source": [
        "foresight = Foresight(sizes = sizes,\n",
        "                      feature_indexes = feature_indexes,\n",
        "                      csize = 128,\n",
        "                      hsize = [128, 128],\n",
        "                      pool_size = [1,1],\n",
        "                      head_layers=[\"conv\", \"conv\"])"
      ]
    },
    {
      "cell_type": "code",
      "execution_count": 10,
      "metadata": {
        "id": "UZI62hEPSOmt",
        "outputId": "189b1cbc-0e08-4268-a117-5891c8491a19",
        "colab": {
          "base_uri": "https://localhost:8080/"
        }
      },
      "outputs": [
        {
          "output_type": "stream",
          "name": "stdout",
          "text": [
            "Epoch [1/30], Loss: 0.023020256295179328\n",
            "Epoch [2/30], Loss: 0.007176380101591349\n",
            "Epoch [3/30], Loss: 0.005819759631219009\n",
            "Epoch [4/30], Loss: 0.005187379340641201\n",
            "Epoch [5/30], Loss: 0.00469901837874204\n",
            "Epoch [6/30], Loss: 0.0042302799038589\n",
            "Epoch [7/30], Loss: 0.003772135068041583\n",
            "Epoch [8/30], Loss: 0.0033528091665357353\n",
            "Epoch [9/30], Loss: 0.002933180200246473\n",
            "Epoch [10/30], Loss: 0.0025599312083795667\n",
            "Epoch [11/30], Loss: 0.0021246106573380528\n",
            "Epoch [12/30], Loss: 0.0017459359850424032\n",
            "Epoch [13/30], Loss: 0.001411839168285951\n",
            "Epoch [14/30], Loss: 0.0010982749149358521\n",
            "Epoch [15/30], Loss: 0.000823784073581919\n",
            "Epoch [16/30], Loss: 0.0006202362871651228\n",
            "Epoch [17/30], Loss: 0.0004509404070752983\n",
            "Epoch [18/30], Loss: 0.0003140269465317639\n",
            "Epoch [19/30], Loss: 0.00022466196853201836\n",
            "Epoch [20/30], Loss: 0.00016240851332743962\n",
            "Epoch [21/30], Loss: 0.00012098297437963386\n",
            "Epoch [22/30], Loss: 9.539387579328226e-05\n",
            "Epoch [23/30], Loss: 8.01778999933352e-05\n",
            "Epoch [24/30], Loss: 6.824462759444335e-05\n",
            "Epoch [25/30], Loss: 5.87419451524814e-05\n",
            "Epoch [26/30], Loss: 5.408229986642255e-05\n",
            "Epoch [27/30], Loss: 6.187613248281801e-05\n",
            "Epoch [28/30], Loss: 7.25293010570264e-05\n",
            "Epoch [29/30], Loss: 0.00014830338266619947\n",
            "Epoch [30/30], Loss: 0.0002843403966592935\n"
          ]
        }
      ],
      "source": [
        "foresight = train_foresight(foresight, preparer.dataloaders, num_epochs = 30)"
      ]
    },
    {
      "cell_type": "markdown",
      "metadata": {
        "id": "ovIuXQXKSOmt"
      },
      "source": [
        "## CerberusTS Training\n",
        "\n",
        "With the Foresight model trained (and weights frozen), we can pass this into a Cerberus model and train the remaining weights to generate predictions."
      ]
    },
    {
      "cell_type": "code",
      "execution_count": 11,
      "metadata": {
        "id": "rFna72OkSOmu"
      },
      "outputs": [],
      "source": [
        "model = Cerberus(sizes=sizes,\n",
        "                 feature_indexes=feature_indexes,\n",
        "                 foresight=foresight,\n",
        "                 pool_size = [1,1],\n",
        "                 head_layers=[\"conv\", \"conv\"])"
      ]
    },
    {
      "cell_type": "code",
      "execution_count": null,
      "metadata": {
        "id": "FgyEs2uxSOmu",
        "outputId": "22767932-2497-4e0a-ba40-af88b581316f",
        "colab": {
          "base_uri": "https://localhost:8080/"
        }
      },
      "outputs": [
        {
          "output_type": "stream",
          "name": "stdout",
          "text": [
            "Epoch [1/60], Loss: 0.0011595764306063453\n",
            "Epoch [2/60], Loss: 0.0008236499105502541\n",
            "Epoch [3/60], Loss: 0.0006850207651344438\n",
            "Epoch [4/60], Loss: 0.0005727205229535078\n",
            "Epoch [5/60], Loss: 0.0005031821720573741\n",
            "Epoch [6/60], Loss: 0.00040569585961444925\n",
            "Epoch [7/60], Loss: 0.00034079241731281703\n"
          ]
        }
      ],
      "source": [
        "model = train_cerberus(model, preparer.dataloaders, num_epochs = 60)"
      ]
    },
    {
      "cell_type": "markdown",
      "metadata": {
        "id": "-3yO-S2vSOmu"
      },
      "source": [
        "## Results Review\n",
        "\n",
        "CerberusTS has some built in functionality for generating responses as well as visualizing the results.\n",
        "\n",
        "### Normalized Response Review"
      ]
    },
    {
      "cell_type": "code",
      "execution_count": null,
      "metadata": {
        "id": "QBCF26pjSOmu"
      },
      "outputs": [],
      "source": [
        "# Intialize Response Generator\n",
        "generator = ResponseGenerator(model, preparer.sliced_data, feature_indexes, preparer.max_change_dfs)\n",
        "\n",
        "# Generate a response for a specific index\n",
        "sel_index = 1234\n",
        "generator.generate_response(sel_index)\n",
        "\n",
        "generator.plot_normalized_responses()"
      ]
    },
    {
      "cell_type": "markdown",
      "metadata": {
        "id": "yBr9bwEhSOmu"
      },
      "source": [
        "### Unscaled Response Review"
      ]
    },
    {
      "cell_type": "code",
      "execution_count": null,
      "metadata": {
        "id": "MQa9mHl7SOmu"
      },
      "outputs": [],
      "source": [
        "generator.plot_unscaled_responses(preparer.min_max_df, feature_indexes)"
      ]
    }
  ],
  "metadata": {
    "kernelspec": {
      "display_name": "Python 3",
      "name": "python3"
    },
    "language_info": {
      "codemirror_mode": {
        "name": "ipython",
        "version": 3
      },
      "file_extension": ".py",
      "mimetype": "text/x-python",
      "name": "python",
      "nbconvert_exporter": "python",
      "pygments_lexer": "ipython3",
      "version": "3.8.3"
    },
    "colab": {
      "provenance": [],
      "gpuType": "T4",
      "include_colab_link": true
    },
    "accelerator": "GPU"
  },
  "nbformat": 4,
  "nbformat_minor": 0
}