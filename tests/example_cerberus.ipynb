{
 "cells": [
  {
   "cell_type": "markdown",
   "metadata": {},
   "source": [
    "# Modular CerberusTS Experimentation\n",
    "\n",
    "First we make sure we are in the base working directory (this is probably not necessary if using the package):"
   ]
  },
  {
   "cell_type": "code",
   "execution_count": 1,
   "metadata": {},
   "outputs": [],
   "source": [
    "import os\n",
    "os.chdir(\"..\")"
   ]
  },
  {
   "cell_type": "markdown",
   "metadata": {},
   "source": [
    "Then we import the necessary CerberusTS modules. "
   ]
  },
  {
   "cell_type": "code",
   "execution_count": 2,
   "metadata": {},
   "outputs": [
    {
     "name": "stderr",
     "output_type": "stream",
     "text": [
      "c:\\Users\\johnm\\AppData\\Local\\Programs\\Python\\Python38\\lib\\site-packages\\tqdm\\auto.py:21: TqdmWarning: IProgress not found. Please update jupyter and ipywidgets. See https://ipywidgets.readthedocs.io/en/stable/user_install.html\n",
      "  from .autonotebook import tqdm as notebook_tqdm\n"
     ]
    }
   ],
   "source": [
    "from cerberus_ts import Cerberus, train_cerberus\n",
    "from cerberus_ts import TimeseriesDataPreparer, ResponseGenerator\n",
    "from cerberus_ts import Foresight, train_foresight\n",
    "\n",
    "import pandas as pd"
   ]
  },
  {
   "cell_type": "markdown",
   "metadata": {},
   "source": [
    "Here we have the ability to do some custom configuration:"
   ]
  },
  {
   "cell_type": "code",
   "execution_count": 3,
   "metadata": {},
   "outputs": [],
   "source": [
    "from cerberus_ts import CerberusConfig\n",
    "CerberusConfig.set_masked_norm_zero = True"
   ]
  },
  {
   "cell_type": "markdown",
   "metadata": {},
   "source": [
    "## Dataset Loading\n",
    "\n",
    "Next we need a Pandas Dataframe of some wide-formatted mutlivariate timeseries data. Here we will use the Jena Climate Data found here: https://www.kaggle.com/datasets/mnassrib/jena-climate"
   ]
  },
  {
   "cell_type": "code",
   "execution_count": 4,
   "metadata": {},
   "outputs": [],
   "source": [
    "df = pd.read_csv(r\"data/jena_climate_2009_2016.csv\",\n",
    "                parse_dates=['Date Time'], \n",
    "                index_col=['Date Time'])\n",
    "df.index = pd.to_datetime(df.index, format='%d.%m.%Y %H:%M:%S')\n",
    "df = df.iloc[:5000,:]"
   ]
  },
  {
   "cell_type": "markdown",
   "metadata": {},
   "source": [
    "## User Argument Specification\n",
    "There are a number of different arguments that can be provided to Cerberus, shown below:"
   ]
  },
  {
   "cell_type": "code",
   "execution_count": 5,
   "metadata": {},
   "outputs": [],
   "source": [
    "# What ratio of data needs to be available for the various call, response, and context windows to use that timestamp?\n",
    "thresholds = {\n",
    "    'call': 1,\n",
    "    'response': 1,\n",
    "    'context_0': 1,\n",
    "    'context_1': 1,\n",
    "    'context_2': 1\n",
    "}\n",
    "\n",
    "# How big should the call, context(s), and response windows be?\n",
    "sizes = {\n",
    "    'call': 24,\n",
    "    'response': 8,\n",
    "    'context_0': 24,\n",
    "    'context_1': 12,\n",
    "    'context_2': 6\n",
    "}\n",
    "\n",
    "# What timestep should each head use?\n",
    "window_timesteps = {\n",
    "    'call': '10T',\n",
    "    'response': '10T',\n",
    "    'context_0': '1H',\n",
    "    'context_1': '2H',\n",
    "    'context_2': '6H'\n",
    "}\n",
    "\n",
    "# Which columns should be used for each head?\n",
    "feature_indexes = {\n",
    "    'call': range(0,14),\n",
    "    'response': [0, 1, 4],\n",
    "    'context_0': range(0,14),\n",
    "    'context_1': range(0,14),\n",
    "    'context_2': range(0,14)   \n",
    "}"
   ]
  },
  {
   "cell_type": "markdown",
   "metadata": {},
   "source": [
    "## Prepare Dataset\n",
    "\n",
    "We will use CerberusTS's TimeseriesDataPreparer class to create Torch dataloaders for all our different heads, scaled, downsampled, and coil-normalized for easy Cerberus use. "
   ]
  },
  {
   "cell_type": "code",
   "execution_count": 6,
   "metadata": {},
   "outputs": [],
   "source": [
    "# Initialize the preparer\n",
    "preparer = TimeseriesDataPreparer(df, sizes, thresholds, feature_indexes, window_timesteps, train_len = 20_000, feature_range = (0, 1), batch_size = 100)\n",
    "\n",
    "# Prepare the data\n",
    "preparer.prepare_data()"
   ]
  },
  {
   "cell_type": "markdown",
   "metadata": {},
   "source": [
    "## Foresight Training\n",
    "\n",
    "First, we can optionally train Foresight to aid CerberusTS:"
   ]
  },
  {
   "cell_type": "code",
   "execution_count": 7,
   "metadata": {},
   "outputs": [],
   "source": [
    "foresight = Foresight(sizes = sizes, \n",
    "                      feature_indexes = feature_indexes, \n",
    "                      csize = 128, \n",
    "                      hsize = [128, 128], \n",
    "                      pool_size = [2,1],\n",
    "                      head_layers=[\"conv\", \"conv\"])"
   ]
  },
  {
   "cell_type": "code",
   "execution_count": 8,
   "metadata": {},
   "outputs": [
    {
     "name": "stdout",
     "output_type": "stream",
     "text": [
      "Epoch [1/30], Loss: 0.020333166597411037\n"
     ]
    },
    {
     "ename": "KeyboardInterrupt",
     "evalue": "",
     "output_type": "error",
     "traceback": [
      "\u001b[1;31m---------------------------------------------------------------------------\u001b[0m",
      "\u001b[1;31mKeyboardInterrupt\u001b[0m                         Traceback (most recent call last)",
      "Cell \u001b[1;32mIn[8], line 1\u001b[0m\n\u001b[1;32m----> 1\u001b[0m foresight \u001b[38;5;241m=\u001b[39m \u001b[43mtrain_foresight\u001b[49m\u001b[43m(\u001b[49m\u001b[43mforesight\u001b[49m\u001b[43m,\u001b[49m\u001b[43m \u001b[49m\u001b[43mpreparer\u001b[49m\u001b[38;5;241;43m.\u001b[39;49m\u001b[43mdataloaders\u001b[49m\u001b[43m,\u001b[49m\u001b[43m \u001b[49m\u001b[43mnum_epochs\u001b[49m\u001b[43m \u001b[49m\u001b[38;5;241;43m=\u001b[39;49m\u001b[43m \u001b[49m\u001b[38;5;241;43m30\u001b[39;49m\u001b[43m)\u001b[49m\n",
      "File \u001b[1;32mc:\\Users\\johnm\\Documents\\GitHub\\cerberusPy\\cerberus_ts\\modules\\build_cerberus.py:342\u001b[0m, in \u001b[0;36mtrain_foresight\u001b[1;34m(foresight, prepared_dataloaders, num_epochs)\u001b[0m\n\u001b[0;32m    339\u001b[0m         accelerator\u001b[38;5;241m.\u001b[39mbackward(loss)\n\u001b[0;32m    340\u001b[0m         optimizer\u001b[38;5;241m.\u001b[39mstep()\n\u001b[1;32m--> 342\u001b[0m         running_loss \u001b[38;5;241m+\u001b[39m\u001b[38;5;241m=\u001b[39m \u001b[43mloss\u001b[49m\u001b[38;5;241;43m.\u001b[39;49m\u001b[43mitem\u001b[49m\u001b[43m(\u001b[49m\u001b[43m)\u001b[49m\n\u001b[0;32m    344\u001b[0m \u001b[38;5;28;01mexcept\u001b[39;00m \u001b[38;5;167;01mStopIteration\u001b[39;00m:\n\u001b[0;32m    345\u001b[0m     \u001b[38;5;66;03m# End of epoch\u001b[39;00m\n\u001b[0;32m    346\u001b[0m     \u001b[38;5;28;01mbreak\u001b[39;00m\n",
      "\u001b[1;31mKeyboardInterrupt\u001b[0m: "
     ]
    }
   ],
   "source": [
    "foresight = train_foresight(foresight, preparer.dataloaders, num_epochs = 30)"
   ]
  },
  {
   "cell_type": "markdown",
   "metadata": {},
   "source": [
    "## CerberusTS Training\n",
    "\n",
    "With the Foresight model trained (and weights frozen), we can pass this into a Cerberus model and train the remaining weights to generate predictions. "
   ]
  },
  {
   "cell_type": "code",
   "execution_count": null,
   "metadata": {},
   "outputs": [],
   "source": [
    "model = Cerberus(sizes=sizes, \n",
    "                 feature_indexes=feature_indexes, \n",
    "                 foresight=foresight, \n",
    "                 pool_size = [2,1],\n",
    "                 head_layers=[\"conv\",\"conv\"])"
   ]
  },
  {
   "cell_type": "code",
   "execution_count": null,
   "metadata": {},
   "outputs": [],
   "source": [
    "model = train_cerberus(model, preparer.dataloaders, num_epochs = 60)"
   ]
  },
  {
   "cell_type": "markdown",
   "metadata": {},
   "source": [
    "## Results Review\n",
    "\n",
    "CerberusTS has some built in functionality for generating responses as well as visualizing the results. \n",
    "\n",
    "### Normalized Response Review"
   ]
  },
  {
   "cell_type": "code",
   "execution_count": null,
   "metadata": {},
   "outputs": [],
   "source": [
    "# Intialize Response Generator\n",
    "generator = ResponseGenerator(model, preparer.sliced_data, feature_indexes, preparer.max_change_dfs)\n",
    "\n",
    "# Generate a response for a specific index\n",
    "sel_index = 2130\n",
    "generator.generate_response(sel_index)\n",
    "\n",
    "generator.plot_normalized_responses()"
   ]
  },
  {
   "cell_type": "markdown",
   "metadata": {},
   "source": [
    "### Unscaled Response Review"
   ]
  },
  {
   "cell_type": "code",
   "execution_count": null,
   "metadata": {},
   "outputs": [],
   "source": [
    "generator.plot_unscaled_responses(preparer.min_max_df, feature_indexes)"
   ]
  }
 ],
 "metadata": {
  "kernelspec": {
   "display_name": "Python 3",
   "language": "python",
   "name": "python3"
  },
  "language_info": {
   "codemirror_mode": {
    "name": "ipython",
    "version": 3
   },
   "file_extension": ".py",
   "mimetype": "text/x-python",
   "name": "python",
   "nbconvert_exporter": "python",
   "pygments_lexer": "ipython3",
   "version": "3.8.3"
  }
 },
 "nbformat": 4,
 "nbformat_minor": 2
}
