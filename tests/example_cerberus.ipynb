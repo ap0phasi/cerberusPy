{
 "cells": [
  {
   "cell_type": "markdown",
   "metadata": {},
   "source": [
    "# Modular CerberusTS Experimentation"
   ]
  },
  {
   "cell_type": "code",
   "execution_count": 1,
   "metadata": {},
   "outputs": [],
   "source": [
    "import os\n",
    "os.chdir(\"..\")"
   ]
  },
  {
   "cell_type": "code",
   "execution_count": 2,
   "metadata": {},
   "outputs": [
    {
     "name": "stderr",
     "output_type": "stream",
     "text": [
      "c:\\Users\\johnm\\AppData\\Local\\Programs\\Python\\Python38\\lib\\site-packages\\tqdm\\auto.py:21: TqdmWarning: IProgress not found. Please update jupyter and ipywidgets. See https://ipywidgets.readthedocs.io/en/stable/user_install.html\n",
      "  from .autonotebook import tqdm as notebook_tqdm\n"
     ]
    }
   ],
   "source": [
    "from cerberus_ts import Cerberus, train_cerberus\n",
    "from cerberus_ts import prepare_timeseries_data, generate_predictions\n",
    "import pandas as pd"
   ]
  },
  {
   "cell_type": "code",
   "execution_count": 3,
   "metadata": {},
   "outputs": [],
   "source": [
    "df = pd.read_csv(r\"data/jena_climate_2009_2016.csv\",\n",
    "                parse_dates=['Date Time'], \n",
    "                index_col=['Date Time'])\n",
    "df.index = pd.to_datetime(df.index, format='%d.%m.%Y %H:%M:%S')\n",
    "df = df.iloc[:5000,:]"
   ]
  },
  {
   "cell_type": "code",
   "execution_count": 4,
   "metadata": {},
   "outputs": [],
   "source": [
    "thresholds = {\n",
    "    'call': 1,\n",
    "    'response': 1,\n",
    "    'context_0': 1,\n",
    "    'context_1': 1,\n",
    "    'context_2': 1\n",
    "}\n",
    "\n",
    "sizes = {\n",
    "    'call': 24,\n",
    "    'response': 8,\n",
    "    'context_0': 24,\n",
    "    'context_1': 12,\n",
    "    'context_2': 6\n",
    "}\n",
    "\n",
    "window_timesteps = {\n",
    "    'call': '10T',\n",
    "    'response': '10T',\n",
    "    'context_0': '1H',\n",
    "    'context_1': '2H',\n",
    "    'context_2': '6H'\n",
    "}\n",
    "\n",
    "window_sizes = {\n",
    "    'call': 24,\n",
    "    'response': 8,\n",
    "    'context_0': 24,\n",
    "    'context_1': 12,\n",
    "    'context_2': 6\n",
    "}\n",
    "\n",
    "feature_indexes = {\n",
    "    'call': range(0,14),\n",
    "    'response': [0, 1, 4],\n",
    "    'context_0': range(0,14),\n",
    "    'context_1': range(0,14),\n",
    "    'context_2': range(0,14)   \n",
    "}"
   ]
  },
  {
   "cell_type": "code",
   "execution_count": 5,
   "metadata": {},
   "outputs": [],
   "source": [
    "prepared_dataloaders, sliced_data = prepare_timeseries_data(df,\n",
    "                        sizes,\n",
    "                        thresholds,\n",
    "                        feature_indexes,\n",
    "                        window_timesteps,\n",
    "                        train_len = 20_000,\n",
    "                        feature_range = [0, 1])"
   ]
  },
  {
   "cell_type": "code",
   "execution_count": 6,
   "metadata": {},
   "outputs": [],
   "source": [
    "model = Cerberus(sizes, feature_indexes)"
   ]
  },
  {
   "cell_type": "code",
   "execution_count": 7,
   "metadata": {},
   "outputs": [
    {
     "name": "stdout",
     "output_type": "stream",
     "text": [
      "Epoch [1/30], Loss: 0.004035187437354277\n",
      "Epoch [2/30], Loss: 0.0013750345267665883\n",
      "Epoch [3/30], Loss: 0.001190887064440176\n",
      "Epoch [4/30], Loss: 0.001123394260648638\n",
      "Epoch [5/30], Loss: 0.0010858420922886581\n",
      "Epoch [6/30], Loss: 0.0010633071213184545\n",
      "Epoch [7/30], Loss: 0.001007985788358686\n",
      "Epoch [8/30], Loss: 0.000959870748532315\n",
      "Epoch [9/30], Loss: 0.0009263828008746108\n",
      "Epoch [10/30], Loss: 0.000902067106605197\n",
      "Epoch [11/30], Loss: 0.0008722367838102704\n",
      "Epoch [12/30], Loss: 0.0008459301694529131\n",
      "Epoch [13/30], Loss: 0.0008365164770899961\n",
      "Epoch [14/30], Loss: 0.0008150792129648229\n",
      "Epoch [15/30], Loss: 0.0007978582347277552\n",
      "Epoch [16/30], Loss: 0.0007860557214977841\n",
      "Epoch [17/30], Loss: 0.000775376315965938\n",
      "Epoch [18/30], Loss: 0.0007526469927203531\n",
      "Epoch [19/30], Loss: 0.0007412809496357417\n",
      "Epoch [20/30], Loss: 0.0007297823271558931\n",
      "Epoch [21/30], Loss: 0.0007096792297670618\n",
      "Epoch [22/30], Loss: 0.0006933501824581375\n",
      "Epoch [23/30], Loss: 0.0006873409432591871\n",
      "Epoch [24/30], Loss: 0.0006659090359850476\n",
      "Epoch [25/30], Loss: 0.000643488125448736\n",
      "Epoch [26/30], Loss: 0.0006383971526520327\n",
      "Epoch [27/30], Loss: 0.0006173204176593572\n",
      "Epoch [28/30], Loss: 0.0005949668254470453\n",
      "Epoch [29/30], Loss: 0.0005873808026080951\n",
      "Epoch [30/30], Loss: 0.000560901458763207\n"
     ]
    }
   ],
   "source": [
    "model = train_cerberus(model, prepared_dataloaders, num_epochs = 30)"
   ]
  },
  {
   "cell_type": "code",
   "execution_count": 9,
   "metadata": {},
   "outputs": [],
   "source": [
    "sel_indx = 4000\n",
    "# Move model over to cpu\n",
    "model.to(\"cpu\")\n",
    "\n",
    "# Set the model to evaluation mode\n",
    "model.eval()\n",
    "selected_data = {key: value[sel_indx:sel_indx+1,:] for key, value in sliced_data.items()}\n",
    "responses_generated = generate_predictions(model,selected_data)"
   ]
  }
 ],
 "metadata": {
  "kernelspec": {
   "display_name": "Python 3",
   "language": "python",
   "name": "python3"
  },
  "language_info": {
   "codemirror_mode": {
    "name": "ipython",
    "version": 3
   },
   "file_extension": ".py",
   "mimetype": "text/x-python",
   "name": "python",
   "nbconvert_exporter": "python",
   "pygments_lexer": "ipython3",
   "version": "3.8.3"
  }
 },
 "nbformat": 4,
 "nbformat_minor": 2
}
