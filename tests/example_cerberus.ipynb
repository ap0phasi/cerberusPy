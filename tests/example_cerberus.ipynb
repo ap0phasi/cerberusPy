{
 "cells": [
  {
   "cell_type": "markdown",
   "metadata": {},
   "source": [
    "# Modular CerberusTS Experimentation"
   ]
  },
  {
   "cell_type": "code",
   "execution_count": 1,
   "metadata": {},
   "outputs": [],
   "source": [
    "import os\n",
    "os.chdir(\"..\")"
   ]
  },
  {
   "cell_type": "code",
   "execution_count": 2,
   "metadata": {},
   "outputs": [
    {
     "name": "stderr",
     "output_type": "stream",
     "text": [
      "c:\\Users\\johnm\\AppData\\Local\\Programs\\Python\\Python38\\lib\\site-packages\\tqdm\\auto.py:21: TqdmWarning: IProgress not found. Please update jupyter and ipywidgets. See https://ipywidgets.readthedocs.io/en/stable/user_install.html\n",
      "  from .autonotebook import tqdm as notebook_tqdm\n"
     ]
    },
    {
     "ename": "ImportError",
     "evalue": "cannot import name 'denormalize_response' from 'cerberus_ts' (c:\\Users\\johnm\\Documents\\GitHub\\cerberusPy\\cerberus_ts\\__init__.py)",
     "output_type": "error",
     "traceback": [
      "\u001b[1;31m---------------------------------------------------------------------------\u001b[0m",
      "\u001b[1;31mImportError\u001b[0m                               Traceback (most recent call last)",
      "Cell \u001b[1;32mIn[2], line 2\u001b[0m\n\u001b[0;32m      1\u001b[0m \u001b[38;5;28;01mfrom\u001b[39;00m \u001b[38;5;21;01mcerberus_ts\u001b[39;00m \u001b[38;5;28;01mimport\u001b[39;00m Cerberus, train_cerberus\n\u001b[1;32m----> 2\u001b[0m \u001b[38;5;28;01mfrom\u001b[39;00m \u001b[38;5;21;01mcerberus_ts\u001b[39;00m \u001b[38;5;28;01mimport\u001b[39;00m prepare_timeseries_data, generate_predictions, denormalize_response\n\u001b[0;32m      3\u001b[0m \u001b[38;5;28;01mimport\u001b[39;00m \u001b[38;5;21;01mpandas\u001b[39;00m \u001b[38;5;28;01mas\u001b[39;00m \u001b[38;5;21;01mpd\u001b[39;00m\n",
      "\u001b[1;31mImportError\u001b[0m: cannot import name 'denormalize_response' from 'cerberus_ts' (c:\\Users\\johnm\\Documents\\GitHub\\cerberusPy\\cerberus_ts\\__init__.py)"
     ]
    }
   ],
   "source": [
    "from cerberus_ts import Cerberus, train_cerberus\n",
    "from cerberus_ts import prepare_timeseries_data, generate_predictions, denormalize_response\n",
    "import pandas as pd"
   ]
  },
  {
   "cell_type": "code",
   "execution_count": null,
   "metadata": {},
   "outputs": [],
   "source": [
    "df = pd.read_csv(r\"data/jena_climate_2009_2016.csv\",\n",
    "                parse_dates=['Date Time'], \n",
    "                index_col=['Date Time'])\n",
    "df.index = pd.to_datetime(df.index, format='%d.%m.%Y %H:%M:%S')\n",
    "df = df.iloc[:5000,:]"
   ]
  },
  {
   "cell_type": "code",
   "execution_count": null,
   "metadata": {},
   "outputs": [],
   "source": [
    "thresholds = {\n",
    "    'call': 1,\n",
    "    'response': 1,\n",
    "    'context_0': 1,\n",
    "    'context_1': 1,\n",
    "    'context_2': 1\n",
    "}\n",
    "\n",
    "sizes = {\n",
    "    'call': 24,\n",
    "    'response': 8,\n",
    "    'context_0': 24,\n",
    "    'context_1': 12,\n",
    "    'context_2': 6\n",
    "}\n",
    "\n",
    "window_timesteps = {\n",
    "    'call': '10T',\n",
    "    'response': '10T',\n",
    "    'context_0': '1H',\n",
    "    'context_1': '2H',\n",
    "    'context_2': '6H'\n",
    "}\n",
    "\n",
    "window_sizes = {\n",
    "    'call': 24,\n",
    "    'response': 8,\n",
    "    'context_0': 24,\n",
    "    'context_1': 12,\n",
    "    'context_2': 6\n",
    "}\n",
    "\n",
    "feature_indexes = {\n",
    "    'call': range(0,14),\n",
    "    'response': [0, 1, 4],\n",
    "    'context_0': range(0,14),\n",
    "    'context_1': range(0,14),\n",
    "    'context_2': range(0,14)   \n",
    "}"
   ]
  },
  {
   "cell_type": "code",
   "execution_count": null,
   "metadata": {},
   "outputs": [],
   "source": [
    "prepared_dataloaders, sliced_data, max_change_dfs = prepare_timeseries_data(df,\n",
    "                        sizes,\n",
    "                        thresholds,\n",
    "                        feature_indexes,\n",
    "                        window_timesteps,\n",
    "                        train_len = 20_000,\n",
    "                        feature_range = [0, 1])"
   ]
  },
  {
   "cell_type": "code",
   "execution_count": null,
   "metadata": {},
   "outputs": [],
   "source": [
    "model = Cerberus(sizes, feature_indexes)"
   ]
  },
  {
   "cell_type": "code",
   "execution_count": null,
   "metadata": {},
   "outputs": [],
   "source": [
    "model = train_cerberus(model, prepared_dataloaders, num_epochs = 30)"
   ]
  },
  {
   "cell_type": "code",
   "execution_count": null,
   "metadata": {},
   "outputs": [],
   "source": [
    "sel_indx = 4000\n",
    "# Move model over to cpu\n",
    "model.to(\"cpu\")\n",
    "\n",
    "# Set the model to evaluation mode\n",
    "model.eval()\n",
    "selected_data = {key: value[sel_indx:sel_indx+1,:] for key, value in sliced_data.items()}\n",
    "responses_generated = generate_predictions(model,selected_data)"
   ]
  },
  {
   "cell_type": "code",
   "execution_count": null,
   "metadata": {},
   "outputs": [],
   "source": [
    "responses_generated"
   ]
  },
  {
   "cell_type": "code",
   "execution_count": null,
   "metadata": {},
   "outputs": [],
   "source": [
    "initial_value = selected_data['last_known'][0][0][feature_indexes['response']]\n",
    "max_change_df = max_change_dfs['response']\n",
    "\n",
    "denormalized_response = denormalize_response(responses_generated, max_change_df,initial_value)\n",
    "print(denormalized_response)"
   ]
  }
 ],
 "metadata": {
  "kernelspec": {
   "display_name": "Python 3",
   "language": "python",
   "name": "python3"
  },
  "language_info": {
   "codemirror_mode": {
    "name": "ipython",
    "version": 3
   },
   "file_extension": ".py",
   "mimetype": "text/x-python",
   "name": "python",
   "nbconvert_exporter": "python",
   "pygments_lexer": "ipython3",
   "version": "3.8.3"
  }
 },
 "nbformat": 4,
 "nbformat_minor": 2
}
