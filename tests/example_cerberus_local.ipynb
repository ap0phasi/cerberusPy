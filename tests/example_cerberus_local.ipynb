{
  "cells": [
    {
      "cell_type": "markdown",
      "metadata": {
        "id": "v6JdUAunSOmn"
      },
      "source": [
        "# Modular CerberusTS Experimentation\n",
        "\n",
        "First we make sure we are in the base working directory (this is probably not necessary if using the package):"
      ]
    },
    {
      "cell_type": "markdown",
      "metadata": {
        "id": "gYXlEu7zyGNm"
      },
      "source": [
        "Google Colab notebooks come with most of the packages we need, but we need to upgrade pandas and install accelerate."
      ]
    },
    {
      "cell_type": "markdown",
      "metadata": {
        "id": "IZzrzqahSOmq"
      },
      "source": [
        "Then we import the necessary CerberusTS modules."
      ]
    },
    {
      "cell_type": "code",
      "execution_count": null,
      "metadata": {},
      "outputs": [],
      "source": [
        "import torch\n",
        "# Check if CUDA is available\n",
        "if torch.cuda.is_available():\n",
        "    # Print the number of available CUDA devices\n",
        "    print(f\"Number of CUDA devices available: {torch.cuda.device_count()}\")\n",
        "\n",
        "    # Print each CUDA device\n",
        "    for i in range(torch.cuda.device_count()):\n",
        "        print(f\"CUDA Device {i}: {torch.cuda.get_device_name(i)}\")\n",
        "else:\n",
        "    print(\"CUDA is not available.\")"
      ]
    },
    {
      "cell_type": "code",
      "execution_count": null,
      "metadata": {},
      "outputs": [],
      "source": [
        "from cerberus_ts import CerberusConfig\n",
        "CerberusConfig.set_masked_norm_zero = True\n",
        "CerberusConfig.processor_type = 'flatten'\n",
        "CerberusConfig.foresight_residual = False"
      ]
    },
    {
      "cell_type": "code",
      "execution_count": null,
      "metadata": {
        "id": "JszYMejySOmq"
      },
      "outputs": [],
      "source": [
        "from cerberus_ts import Cerberus, train_cerberus\n",
        "from cerberus_ts import Foresight, train_foresight\n",
        "from cerberus_ts import TimeseriesDataPreparer, ResponseGenerator\n",
        "\n",
        "import pandas as pd"
      ]
    },
    {
      "cell_type": "markdown",
      "metadata": {
        "id": "cI8HyB4hSOmr"
      },
      "source": [
        "Here we have the ability to do some custom configuration:"
      ]
    },
    {
      "cell_type": "markdown",
      "metadata": {
        "id": "jTC4JrnBSOmr"
      },
      "source": [
        "## Dataset Loading\n",
        "\n",
        "Next we need a Pandas Dataframe of some wide-formatted mutlivariate timeseries data. Here we will use the Jena Climate Data found here: https://www.kaggle.com/datasets/mnassrib/jena-climate"
      ]
    },
    {
      "cell_type": "code",
      "execution_count": null,
      "metadata": {
        "id": "Nn7c760ZSOmr"
      },
      "outputs": [],
      "source": [
        "df = pd.read_csv(r\"../data/jena_climate_2009_2016.csv\",\n",
        "                parse_dates=['Date Time'],\n",
        "                index_col=['Date Time'])\n",
        "df.index = pd.to_datetime(df.index, format='%d.%m.%Y %H:%M:%S')\n",
        "# For these tests we will just use a small slice of the dataset\n",
        "df = df.iloc[:5000,:]"
      ]
    },
    {
      "cell_type": "markdown",
      "metadata": {
        "id": "Jtvl6q86SOms"
      },
      "source": [
        "## User Argument Specification\n",
        "There are a number of different arguments that can be provided to Cerberus, shown below:"
      ]
    },
    {
      "cell_type": "code",
      "execution_count": null,
      "metadata": {
        "id": "9PlcpgaiSOms"
      },
      "outputs": [],
      "source": [
        "# What ratio of data needs to be available for the various call, response, and context windows to use that timestamp?\n",
        "thresholds = {\n",
        "    'call': 1,\n",
        "    'response': 1,\n",
        "    'context_0': 1,\n",
        "    'context_1': 1,\n",
        "    'context_2': 1\n",
        "}\n",
        "\n",
        "# How big should the call, context(s), and response windows be?\n",
        "sizes = {\n",
        "    'call': 24,\n",
        "    'response': 8,\n",
        "    'context_0': 24,\n",
        "    'context_1': 12,\n",
        "    'context_2': 6\n",
        "}\n",
        "\n",
        "# What timestep should each head use?\n",
        "window_timesteps = {\n",
        "    'call': '10T',\n",
        "    'response': '10T',\n",
        "    'context_0': '1H',\n",
        "    'context_1': '2H',\n",
        "    'context_2': '6H'\n",
        "}\n",
        "\n",
        "# Which columns should be used for each head?\n",
        "feature_indexes = {\n",
        "    'call': range(0,14),\n",
        "    'response': [0, 1, 4],\n",
        "    'context_0': range(0,14),\n",
        "    'context_1': range(0,14),\n",
        "    'context_2': range(0,14)\n",
        "}"
      ]
    },
    {
      "cell_type": "markdown",
      "metadata": {
        "id": "vNPLo4c9SOms"
      },
      "source": [
        "## Prepare Dataset\n",
        "\n",
        "We will use CerberusTS's TimeseriesDataPreparer class to create Torch dataloaders for all our different heads, scaled, downsampled, and coil-normalized for easy Cerberus use."
      ]
    },
    {
      "cell_type": "code",
      "execution_count": null,
      "metadata": {
        "id": "ZeQxziRuSOmt"
      },
      "outputs": [],
      "source": [
        "# Initialize the preparer\n",
        "preparer = TimeseriesDataPreparer(df, sizes, thresholds, feature_indexes, window_timesteps, train_len = 20_000, feature_range = (0, 1), batch_size = 64)\n",
        "\n",
        "# Prepare the data\n",
        "preparer.prepare_data()"
      ]
    },
    {
      "cell_type": "code",
      "execution_count": null,
      "metadata": {},
      "outputs": [],
      "source": [
        "next(iter(preparer.dataloaders[0]))[0].device"
      ]
    },
    {
      "cell_type": "markdown",
      "metadata": {
        "id": "xCEE5MzZbrR1"
      },
      "source": []
    },
    {
      "cell_type": "markdown",
      "metadata": {
        "id": "eQ0e0M0OSOmt"
      },
      "source": [
        "## Foresight Training\n",
        "\n",
        "First, we can optionally train Foresight to aid CerberusTS:"
      ]
    },
    {
      "cell_type": "code",
      "execution_count": null,
      "metadata": {},
      "outputs": [],
      "source": [
        "foresight = Foresight(sizes=sizes,\n",
        "                 feature_indexes=feature_indexes,\n",
        "                 d_neck=256,\n",
        "                 head_layers=[\"conv\",\"conv\"],\n",
        "                 body_layer_sizes = [256, 128],\n",
        "                 dropout_rate = 0.0,\n",
        "                 eventualities = 10,\n",
        "                 expander_sizes = [128, 256],\n",
        "                 out_channels = 128,\n",
        "                 kernel_size = 3)"
      ]
    },
    {
      "cell_type": "code",
      "execution_count": null,
      "metadata": {},
      "outputs": [],
      "source": [
        "foresight = train_foresight(foresight, preparer.dataloaders, num_epochs = 30)"
      ]
    },
    {
      "cell_type": "markdown",
      "metadata": {
        "id": "ovIuXQXKSOmt"
      },
      "source": [
        "## CerberusTS Training (No Foresight)"
      ]
    },
    {
      "cell_type": "code",
      "execution_count": null,
      "metadata": {
        "id": "rFna72OkSOmu"
      },
      "outputs": [],
      "source": [
        "cerberus_noforesight = Cerberus(sizes=sizes,\n",
        "                 feature_indexes=feature_indexes,\n",
        "                 d_neck=512,\n",
        "                 head_layers=[\"conv\",\"conv\"],\n",
        "                 body_layer_sizes = [512, 256, 128],\n",
        "                 dropout_rate = 0.0,\n",
        "                 out_channels = 128,\n",
        "                 kernel_size = 3)\n",
        "                 "
      ]
    },
    {
      "cell_type": "code",
      "execution_count": null,
      "metadata": {
        "colab": {
          "base_uri": "https://localhost:8080/"
        },
        "id": "FgyEs2uxSOmu",
        "outputId": "803bc4e6-56b1-4593-a3c8-1df817adc8de"
      },
      "outputs": [],
      "source": [
        "cerberus_noforesight = train_cerberus(cerberus_noforesight, preparer.dataloaders, num_epochs = 60)"
      ]
    },
    {
      "cell_type": "markdown",
      "metadata": {},
      "source": [
        "## CerberusTS Training (With Foresight)\n",
        "With the Foresight model trained (and weights frozen), we can pass this into a Cerberus model and train the remaining weights to generate predictions."
      ]
    },
    {
      "cell_type": "code",
      "execution_count": null,
      "metadata": {},
      "outputs": [],
      "source": [
        "cerberus_foresight = Cerberus(sizes=sizes,\n",
        "                 feature_indexes=feature_indexes,\n",
        "                 d_neck=512,\n",
        "                 head_layers=[\"conv\",\"conv\"],\n",
        "                 body_layer_sizes = [512, 256, 128],\n",
        "                 dropout_rate = 0.0,\n",
        "                 foresight = foresight,\n",
        "                 eventualities = 10,\n",
        "                 out_channels = 128,\n",
        "                 kernel_size = 3)"
      ]
    },
    {
      "cell_type": "code",
      "execution_count": null,
      "metadata": {},
      "outputs": [],
      "source": [
        "cerberus_foresight = train_cerberus(cerberus_foresight, preparer.dataloaders, num_epochs = 60)"
      ]
    },
    {
      "cell_type": "markdown",
      "metadata": {
        "id": "-3yO-S2vSOmu"
      },
      "source": [
        "## Results Review\n",
        "\n",
        "CerberusTS has some built in functionality for generating responses as well as visualizing the results.\n",
        "\n",
        "### Normalized Response Review"
      ]
    },
    {
      "cell_type": "code",
      "execution_count": null,
      "metadata": {
        "colab": {
          "base_uri": "https://localhost:8080/",
          "height": 1000
        },
        "id": "QBCF26pjSOmu",
        "outputId": "fbe74ed9-6279-4977-d7ac-57f1e3bb80fe"
      },
      "outputs": [],
      "source": [
        "# Intialize Response Generator\n",
        "generator = ResponseGenerator(cerberus_foresight, preparer.sliced_data, feature_indexes, preparer.max_change_dfs)\n",
        "\n",
        "# Generate a response for a specific index\n",
        "sel_index = 4000\n",
        "generator.generate_response(sel_index)\n",
        "\n",
        "generator.plot_normalized_responses()"
      ]
    },
    {
      "cell_type": "markdown",
      "metadata": {
        "id": "yBr9bwEhSOmu"
      },
      "source": [
        "### Unscaled Response Review"
      ]
    },
    {
      "cell_type": "code",
      "execution_count": null,
      "metadata": {
        "colab": {
          "base_uri": "https://localhost:8080/",
          "height": 1000
        },
        "id": "MQa9mHl7SOmu",
        "outputId": "b2d84d5c-5b09-4afd-84c3-b6e09b79e614"
      },
      "outputs": [],
      "source": [
        "generator.plot_unscaled_responses(preparer.min_max_df, feature_indexes)"
      ]
    }
  ],
  "metadata": {
    "accelerator": "GPU",
    "colab": {
      "gpuType": "T4",
      "include_colab_link": true,
      "provenance": []
    },
    "kernelspec": {
      "display_name": "Python 3",
      "name": "python3"
    },
    "language_info": {
      "codemirror_mode": {
        "name": "ipython",
        "version": 3
      },
      "file_extension": ".py",
      "mimetype": "text/x-python",
      "name": "python",
      "nbconvert_exporter": "python",
      "pygments_lexer": "ipython3",
      "version": "3.8.3"
    }
  },
  "nbformat": 4,
  "nbformat_minor": 0
}
